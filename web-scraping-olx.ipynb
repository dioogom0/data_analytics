{
 "cells": [
  {
   "cell_type": "markdown",
   "id": "6a03ae80",
   "metadata": {},
   "source": [
    "# Importando"
   ]
  },
  {
   "cell_type": "code",
   "execution_count": 1,
   "id": "ee46cde6",
   "metadata": {},
   "outputs": [],
   "source": [
    "import requests\n",
    "from bs4 import BeautifulSoup\n",
    "import pandas as pd"
   ]
  },
  {
   "cell_type": "markdown",
   "id": "c4d8e682",
   "metadata": {},
   "source": [
    "# Função de coleta de links pelas páginas"
   ]
  },
  {
   "cell_type": "code",
   "execution_count": 2,
   "id": "382421b4",
   "metadata": {},
   "outputs": [],
   "source": [
    "# Lista que vai receber os links\n",
    "listalink = []\n",
    "\n",
    "\n",
    "def buscarLinksAnuncios(pages = 3):\n",
    "    \n",
    "    for x in range(0, pages):\n",
    "        print('Loop Número:' + str(x))\n",
    "        url = 'https://www.olx.com.br/autos-e-pecas/carros-vans-e-utilitarios/estado-mg/regiao-de-montes-claros-e-diamantina/regiao-de-montes-claros?o='+str(x)\n",
    "        if x == 0:\n",
    "            print('Primeira Página')\n",
    "        else:\n",
    "            url = 'https://www.olx.com.br/autos-e-pecas/carros-vans-e-utilitarios/estado-mg/regiao-de-montes-claros-e-diamantina/regiao-de-montes-claros?o='+str(x)\n",
    "        \n",
    "        headers = {'User-Agent': 'Mozilla/5.0 (Windows NT 10.0; Win64; x64) AppleWebKit/537.36 (KHTML, like Gecko) Chrome/76.0.3809.100 Safari/537.36'}\n",
    "        \n",
    "\n",
    "        page = requests.get(url, headers = headers)\n",
    "        soup = BeautifulSoup(page.content, 'lxml')\n",
    "        itens = soup.find_all('li', {'class': 'sc-1fcmfeb-2 dvcyfD'})\n",
    "        for a in itens:\n",
    "            try:\n",
    "                urlVeiculo = a.find('a')['href']\n",
    "                \n",
    "                json = {'Link': urlVeiculo}\n",
    "\n",
    "                listalink.append(json)\n",
    "\n",
    "\n",
    "            except:\n",
    "                print('coletando')"
   ]
  },
  {
   "cell_type": "markdown",
   "id": "c282ad05",
   "metadata": {},
   "source": [
    "# Executando a coleta"
   ]
  },
  {
   "cell_type": "code",
   "execution_count": 3,
   "id": "c57ac91c",
   "metadata": {
    "scrolled": true
   },
   "outputs": [
    {
     "name": "stdout",
     "output_type": "stream",
     "text": [
      "Loop Número:0\n",
      "Primeira Página\n",
      "coletando\n",
      "coletando\n",
      "coletando\n",
      "coletando\n",
      "Loop Número:1\n",
      "coletando\n",
      "coletando\n",
      "coletando\n",
      "coletando\n",
      "coletando\n",
      "Loop Número:2\n",
      "coletando\n",
      "coletando\n",
      "coletando\n",
      "coletando\n",
      "coletando\n"
     ]
    }
   ],
   "source": [
    "buscarLinksAnuncios()"
   ]
  },
  {
   "cell_type": "markdown",
   "id": "d974f262",
   "metadata": {},
   "source": [
    "# Função de coleta as informações dos carros"
   ]
  },
  {
   "cell_type": "code",
   "execution_count": 4,
   "id": "63a4e64e",
   "metadata": {},
   "outputs": [],
   "source": [
    "# Lista que vai receber todas as informações\n",
    "listadetalhes = []\n",
    "\n",
    "# Definindo a função\n",
    "def buscarDetalhes():\n",
    "\n",
    "    # Loop que vai acessar anúncio por anúncio e coletar as infos\n",
    "    for d in listalink:\n",
    "        for value in d.values():\n",
    "            urlvalue = value\n",
    "            headers = {'User-Agent': 'Mozilla/5.0 (Windows NT 10.0; Win64; x64) AppleWebKit/537.36 (KHTML, like Gecko) Chrome/76.0.3809.100 Safari/537.36'}\n",
    "\n",
    "            pagedetalhes = requests.get(urlvalue, headers = headers)\n",
    "            soupdetalhes = BeautifulSoup(pagedetalhes.content, 'html.parser')\n",
    "\n",
    "            detalhes = soupdetalhes.find_all('span', {'class': 'sc-ifAKCX cmFKIN'})\n",
    "\n",
    "            try:\n",
    "                titulo = soupdetalhes.find_all('h1', {'class': 'ad__sc-1q2spfr-0 cHBLvn sc-cooIXK frAPUD'})[0].contents[0]\n",
    "                carro = soupdetalhes.find_all('a', {'class': 'sc-gPWkxV dsTsUE'})[0].contents[0]\n",
    "                ano = soupdetalhes.find_all('a', {'class': 'sc-gPWkxV dsTsUE'})[4].contents[0]\n",
    "                Tipo = soupdetalhes.find_all('span', {'class': 'sc-ifAKCX cmFKIN'})[0].contents[0]\n",
    "                km = soupdetalhes.find_all('span', {'class': 'sc-ifAKCX cmFKIN'})[1].contents[0]\n",
    "                potencia = soupdetalhes.find_all('span', {'class': 'sc-ifAKCX cmFKIN'})[2].contents[0]\n",
    "                flex = soupdetalhes.find_all('a', {'class': 'sc-gPWkxV dsTsUE'})[5].contents[0]\n",
    "                gnv = soupdetalhes.find_all('span', {'class': 'sc-ifAKCX cmFKIN'})[3].contents[0]\n",
    "                cambio = soupdetalhes.find_all('span', {'class': 'sc-ifAKCX cmFKIN'})[4].contents[0]\n",
    "                direcao = soupdetalhes.find_all('span', {'class': 'sc-ifAKCX cmFKIN'})[5].contents[0]\n",
    "                cor = soupdetalhes.find_all('span', {'class': 'sc-ifAKCX cmFKIN'})[6].contents[0]\n",
    "                portas = soupdetalhes.find_all('span', {'class': 'sc-ifAKCX cmFKIN'})[7].contents[0]\n",
    "                municipio = soupdetalhes.find_all('dd', {'class': 'ad__sc-1f2ug0x-1 cpGpXB sc-ifAKCX kaNiaQ'})[1].contents[0]\n",
    "                valor = soupdetalhes.find_all('h2', {'class': 'ad__sc-1leoitd-0 bJHaGt sc-cooIXK cXlgiS'})[0].contents[0]\n",
    "                valor = valor.split('R$')[1]\n",
    "                valor = float(valor.replace(\".\", \"\"))\n",
    "                bairro = soupdetalhes.find_all('dd', {'class': 'ad__sc-1f2ug0x-1 cpGpXB sc-ifAKCX kaNiaQ'})[2].contents[0]\n",
    "\n",
    "            except:\n",
    "                print('coletando')\n",
    "\n",
    "            json = {'Titulo': titulo,\n",
    "                    'Carro': carro,\n",
    "                    'Ano': ano,\n",
    "                    'Valor': valor,\n",
    "                    'Tipo': Tipo,\n",
    "                    'KM': km,\n",
    "                    'Câmbio': cambio,\n",
    "                    'Cor': cor,\n",
    "                    'Motor': potencia,\n",
    "                    'Flex': flex,\n",
    "                    'Direção': direcao,\n",
    "                    'Portas': portas,\n",
    "                    'Cidade': municipio,\n",
    "                    'Bairro': bairro,\n",
    "                    'Link': urlvalue}\n",
    "\n",
    "            listadetalhes.append(json)"
   ]
  },
  {
   "cell_type": "markdown",
   "id": "7b334f8a",
   "metadata": {},
   "source": [
    "# Executando a busca dos detalhes de cada anúncio"
   ]
  },
  {
   "cell_type": "code",
   "execution_count": null,
   "id": "e7340247",
   "metadata": {},
   "outputs": [
    {
     "name": "stdout",
     "output_type": "stream",
     "text": [
      "coletando\n",
      "coletando\n",
      "coletando\n",
      "coletando\n",
      "coletando\n",
      "coletando\n",
      "coletando\n",
      "coletando\n",
      "coletando\n",
      "coletando\n",
      "coletando\n",
      "coletando\n",
      "coletando\n",
      "coletando\n",
      "coletando\n",
      "coletando\n",
      "coletando\n",
      "coletando\n",
      "coletando\n",
      "coletando\n",
      "coletando\n",
      "coletando\n",
      "coletando\n",
      "coletando\n",
      "coletando\n",
      "coletando\n",
      "coletando\n",
      "coletando\n",
      "coletando\n",
      "coletando\n",
      "coletando\n",
      "coletando\n",
      "coletando\n",
      "coletando\n",
      "coletando\n",
      "coletando\n",
      "coletando\n",
      "coletando\n",
      "coletando\n",
      "coletando\n",
      "coletando\n"
     ]
    }
   ],
   "source": [
    "buscarDetalhes()"
   ]
  },
  {
   "cell_type": "markdown",
   "id": "2ae1b6e9",
   "metadata": {},
   "source": [
    "# Convertendo em DataFrame"
   ]
  },
  {
   "cell_type": "code",
   "execution_count": null,
   "id": "f84833b7",
   "metadata": {},
   "outputs": [],
   "source": [
    "df = pd.DataFrame(listadetalhes)\n",
    "df"
   ]
  },
  {
   "cell_type": "markdown",
   "id": "89964caa",
   "metadata": {},
   "source": [
    "# Exportando para Excel"
   ]
  },
  {
   "cell_type": "code",
   "execution_count": null,
   "id": "c5301e90",
   "metadata": {},
   "outputs": [],
   "source": [
    "df.to_excel('olxcaralho10.xlsx')"
   ]
  },
  {
   "cell_type": "code",
   "execution_count": null,
   "id": "02b5e0c8",
   "metadata": {},
   "outputs": [],
   "source": []
  }
 ],
 "metadata": {
  "kernelspec": {
   "display_name": "Python 3 (ipykernel)",
   "language": "python",
   "name": "python3"
  },
  "language_info": {
   "codemirror_mode": {
    "name": "ipython",
    "version": 3
   },
   "file_extension": ".py",
   "mimetype": "text/x-python",
   "name": "python",
   "nbconvert_exporter": "python",
   "pygments_lexer": "ipython3",
   "version": "3.9.12"
  }
 },
 "nbformat": 4,
 "nbformat_minor": 5
}
